{
  "nbformat": 4,
  "nbformat_minor": 0,
  "metadata": {
    "colab": {
      "provenance": [],
      "authorship_tag": "ABX9TyNa3Hq7AoSyBilZgl6HbGyw",
      "include_colab_link": true
    },
    "kernelspec": {
      "name": "python3",
      "display_name": "Python 3"
    },
    "language_info": {
      "name": "python"
    }
  },
  "cells": [
    {
      "cell_type": "markdown",
      "metadata": {
        "id": "view-in-github",
        "colab_type": "text"
      },
      "source": [
        "<a href=\"https://colab.research.google.com/github/uzeziogho/ETLDemo/blob/main/ETLDemo.ipynb\" target=\"_parent\"><img src=\"https://colab.research.google.com/assets/colab-badge.svg\" alt=\"Open In Colab\"/></a>"
      ]
    },
    {
      "cell_type": "code",
      "execution_count": 17,
      "metadata": {
        "colab": {
          "base_uri": "https://localhost:8080/"
        },
        "id": "_NSdinzNj1_e",
        "outputId": "ab69f0a0-9de0-4cd9-cab9-793000bb82ba"
      },
      "outputs": [
        {
          "output_type": "stream",
          "name": "stdout",
          "text": [
            "Cloning into 'ETLDemo'...\n",
            "remote: Enumerating objects: 18, done.\u001b[K\n",
            "remote: Counting objects: 100% (18/18), done.\u001b[K\n",
            "remote: Compressing objects: 100% (16/16), done.\u001b[K\n",
            "remote: Total 18 (delta 4), reused 0 (delta 0), pack-reused 0 (from 0)\u001b[K\n",
            "Receiving objects: 100% (18/18), 15.19 KiB | 15.19 MiB/s, done.\n",
            "Resolving deltas: 100% (4/4), done.\n",
            "/content/ETLDemo/ETLDemo/ETLDemo/ETLDemo/ETLDemo/ETLDemo\n",
            "https://www.bankofcanada.ca/valet/observations/FXUSDCAD/json?start_date=\n"
          ]
        }
      ],
      "source": [
        "!git clone https://github.com/uzeziogho/ETLDemo.git\n",
        "%cd ETLDemo\n",
        "\n",
        "#!pip install petl\n",
        "#!pip install pymssql\n",
        "\n",
        "import os\n",
        "import sys\n",
        "import petl\n",
        "import pymssql\n",
        "import configparser\n",
        "import requests\n",
        "import datetime\n",
        "import json\n",
        "import decimal\n",
        "\n",
        "\n",
        "#get data from configuration file\n",
        "config = configparser.ConfigParser()\n",
        "try:\n",
        "    config.read('ETLDemo.ini')\n",
        "except Exception as e:\n",
        "    print('could not read configuration file:'+ str(e))\n",
        "    sys.exit()\n",
        "\n",
        "#read settings from configuration file\n",
        "startDate = config['CONFIG']['startDate']\n",
        "url = config['CONFIG']['URL']\n",
        "destServer = config['CONFIG']['server']\n",
        "destDatabase = config['CONFIG']['database']\n",
        "print(url)"
      ]
    },
    {
      "cell_type": "code",
      "source": [
        "#request data from url\n",
        "try:\n",
        "    BOCResponse = requests.get(url+startDate)\n",
        "except Exception as e:\n",
        "    print('could not get data from url:'+ str(e))\n",
        "    sys.exit()\n",
        "\n",
        "#initialise list of lists for data storage\n",
        "BOCDates = []\n",
        "BOCRates = []\n",
        "\n",
        "#check response status ans process BOC JSON object\n",
        "if (BOCResponse.status_code == 200):\n",
        "    BOCRaw = json.loads(BOCResponse.text)\n",
        "\n",
        "    #extract observation data into column arrays\n",
        "    for row in BOCRaw['observations']:\n",
        "      BOCDates.append(datetime.datetime.strptime(row['d'],'%Y-%m-%d'))\n",
        "      BOCRates.append(decimal.Decimal(row['FXUSDCAD']['v']))\n",
        "\n",
        "    # create petl table from column arrays and rename the columns\n",
        "    exchangeRates = petl.fromcolumns([BOCDates,BOCRates],header=['date','rate'])\n",
        "\n",
        "    #load expense document\n",
        "    try:\n",
        "        expenses = petl.io.xlsx.fromxlsx('Expenses.xlsx',sheet='Github')\n",
        "    except Exception as e:\n",
        "        print('could not open expenses file:'+ str(e))\n",
        "        sys.exit()\n",
        "\n",
        "        #join table\n",
        "        expenses = petl.outerjoin(exchangeRates,expenses,lkey='date')\n",
        "\n",
        "        #fill down missing values\n",
        "        expenses = petl.filldown(expenses,'rate')\n",
        "\n",
        "        #remove dates with no expenses\n",
        "        expenses = petl.select(expenses,lambda rec: rec.USD != None)\n",
        "\n",
        "        #add CDN column\n",
        "        expenses = petl.addfield(expenses,'CAD',lambda rec: rec.USD * rec.rate)\n",
        "\n",
        "        #calculate net expenses\n",
        "        expenses = petl.addfield(expenses,'net',lambda rec: rec.USD - rec.rate * rec.CAD)\n",
        "\n",
        "\n",
        "        #store results\n",
        "#else:\n",
        "   # print('Error connecting to server')"
      ],
      "metadata": {
        "id": "zq8ox2Qlq21u"
      },
      "execution_count": 18,
      "outputs": []
    }
  ]
}