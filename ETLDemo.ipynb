{
  "nbformat": 4,
  "nbformat_minor": 0,
  "metadata": {
    "colab": {
      "provenance": [],
      "authorship_tag": "ABX9TyMkPjvnD9z8FXZm5/FpbjVG",
      "include_colab_link": true
    },
    "kernelspec": {
      "name": "python3",
      "display_name": "Python 3"
    },
    "language_info": {
      "name": "python"
    }
  },
  "cells": [
    {
      "cell_type": "markdown",
      "metadata": {
        "id": "view-in-github",
        "colab_type": "text"
      },
      "source": [
        "<a href=\"https://colab.research.google.com/github/uzeziogho/ETLDemo/blob/main/ETLDemo.ipynb\" target=\"_parent\"><img src=\"https://colab.research.google.com/assets/colab-badge.svg\" alt=\"Open In Colab\"/></a>"
      ]
    },
    {
      "cell_type": "code",
      "execution_count": 8,
      "metadata": {
        "colab": {
          "base_uri": "https://localhost:8080/"
        },
        "id": "_NSdinzNj1_e",
        "outputId": "7cc0557b-2fe4-4c26-e04c-97d69a2e1e82"
      },
      "outputs": [
        {
          "output_type": "stream",
          "name": "stdout",
          "text": [
            "https://www.bankofcanada.ca/valet/observations/FXUSDCAD/json?start_date=\n"
          ]
        }
      ],
      "source": [
        "#!git clone https://github.com/uzeziogho/ETLDemo.git\n",
        "#%cd ETLDemo\n",
        "\n",
        "#!pip install petl\n",
        "#!pip install pymssql\n",
        "\n",
        "import os\n",
        "import sys\n",
        "import petl\n",
        "import pymssql\n",
        "import configparser\n",
        "import requests\n",
        "import datetime\n",
        "import json\n",
        "import decimal\n",
        "\n",
        "\n",
        "#get data from configuration file\n",
        "config = configparser.ConfigParser()\n",
        "try:\n",
        "    config.read('ETLDemo.ini')\n",
        "except Exception as e:\n",
        "    print('could not read configuration file:'+ str(e))\n",
        "    sys.exit()\n",
        "\n",
        "#read settings from configuration file\n",
        "startDate = config['CONFIG']['startDate']\n",
        "url = config['CONFIG']['URL']\n",
        "destServer = config['CONFIG']['server']\n",
        "destDatabase = config['CONFIG']['database']\n",
        "print(url)"
      ]
    },
    {
      "cell_type": "code",
      "source": [
        "#request data from url\n",
        "try:\n",
        "    BOCResponse = requests.get(url+startDate)\n",
        "except Exception as e:\n",
        "    print('could not get data from url:'+ str(e))\n",
        "    sys.exit()\n",
        "\n",
        "#initialise list of lists for data storage\n",
        "BOCDates = []\n",
        "BOCRates = []\n",
        "\n",
        "#check response status ans process BOC JSON object\n",
        "if (BOCResponse.status_code == 200):\n",
        "    BOCRaw = json.loads(BOCResponse.text)\n",
        "\n",
        "    #extract observation data into column arrays\n",
        "    for row in BOCRaw['observations']:\n",
        "      BOCDates.append(datetime.datetime.strptime(row['d'],'%Y-%m-%d'))\n",
        "      BOCRates.append(decimal.Decimal(row['FXUSDCAD']['v']))\n",
        "else:\n",
        "    print('Error connecting to server')"
      ],
      "metadata": {
        "id": "zq8ox2Qlq21u"
      },
      "execution_count": null,
      "outputs": []
    }
  ]
}